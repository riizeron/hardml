{
 "cells": [
  {
   "cell_type": "code",
   "execution_count": 1,
   "metadata": {},
   "outputs": [
    {
     "name": "stderr",
     "output_type": "stream",
     "text": [
      "/Users/20139069/miniconda3/envs/ranking/lib/python3.9/site-packages/tqdm/auto.py:21: TqdmWarning: IProgress not found. Please update jupyter and ipywidgets. See https://ipywidgets.readthedocs.io/en/stable/user_install.html\n",
      "  from .autonotebook import tqdm as notebook_tqdm\n"
     ]
    }
   ],
   "source": [
    "import numpy as np\n",
    "from hyperopt import hp, Trials, fmin, tpe\n",
    "\n",
    "from solution_template import Solution"
   ]
  },
  {
   "cell_type": "code",
   "execution_count": 2,
   "metadata": {},
   "outputs": [
    {
     "name": "stdout",
     "output_type": "stream",
     "text": [
      "X_train: tensor([[ 0.3161,  4.8171, -2.1759,  ..., -0.1118, -0.1959, -0.2662],\n",
      "        [ 0.3161, -0.2350,  0.6171,  ..., -0.1118, -0.1959, -0.2662],\n",
      "        [ 0.3161, -0.2350, -0.3139,  ..., -0.1118, -0.1959, -0.2662],\n",
      "        ...,\n",
      "        [ 0.4786, -0.4121,  1.3276,  ...,  0.0000, -0.1552, -0.3721],\n",
      "        [ 0.4786, -0.4121, -0.0675,  ...,  0.0000, -0.1552, -0.3721],\n",
      "        [ 0.4786,  1.7170, -0.0675,  ...,  0.0000, -0.1552, -0.3721]])\n",
      "ys_train: tensor([[2.],\n",
      "        [2.],\n",
      "        [0.],\n",
      "        ...,\n",
      "        [2.],\n",
      "        [2.],\n",
      "        [1.]])\n",
      "0: NDCG CALC: 0.6205773201178421.\n",
      "1: NDCG CALC: 0.6126776381649754.\n",
      "2: NDCG CALC: 0.6086579442701556.\n",
      "3: NDCG CALC: 0.6186726716431704.\n",
      "4: NDCG CALC: 0.6094735224138607.\n",
      "5: NDCG CALC: 0.6110675991936163.\n",
      "6: NDCG CALC: 0.6092542528428815.\n",
      "7: NDCG CALC: 0.6043674109334295.\n",
      "8: NDCG CALC: 0.6091353327713229.\n",
      "9: NDCG CALC: 0.6157253130593083.\n",
      "10: NDCG CALC: 0.6208163811401888.\n",
      "11: NDCG CALC: 0.6222209652716463.\n",
      "12: NDCG CALC: 0.6274764473465356.\n",
      "13: NDCG CALC: 0.6271020878445018.\n",
      "14: NDCG CALC: 0.6303385435180231.\n",
      "15: NDCG CALC: 0.6357365423305468.\n",
      "16: NDCG CALC: 0.6336071670732715.\n",
      "17: NDCG CALC: 0.6334459256719459.\n",
      "18: NDCG CALC: 0.6382232640277256.\n",
      "19: NDCG CALC: 0.6412498761307109.\n"
     ]
    }
   ],
   "source": [
    "sol = Solution(n_estimators=20)\n",
    "sol.fit()"
   ]
  },
  {
   "cell_type": "code",
   "execution_count": null,
   "metadata": {},
   "outputs": [],
   "source": [
    "def func(params):\n",
    "    sol = Solution(**params)\n",
    "    sol.fit()\n",
    "\n",
    "    loss = sol._calc_data_ndcg(sol.query_ids_test, sol.ys_test, sol.predict(sol.X_test))\n",
    "    \n",
    "    return loss"
   ]
  },
  {
   "cell_type": "code",
   "execution_count": null,
   "metadata": {},
   "outputs": [],
   "source": [
    "n_iter = 100\n",
    "\n",
    "space = {\n",
    "    'n_estimators': hp.quniform('n_estimators', 50, 100, 1),\n",
    "    'max_depth': hp.quniform('max_depth', 2, 20, 1),\n",
    "    'min_samples_leaf': hp.quniform('min_samples_leaf', 1, 10, 1),\n",
    "    'lr': hp.loguniform('lr', 0.01, 1)\n",
    "}\n",
    "\n",
    "trials = Trials()\n",
    "\n",
    "best=fmin(fn=func, # function to optimize\n",
    "        space=space, \n",
    "        algo=tpe.suggest, # optimization algorithm, hyperotp will select its parameters automatically\n",
    "        max_evals=n_iter, # maximum number of iterations\n",
    "        trials=trials, # logging\n",
    "        rstate=np.random.default_rng(28)# fixing random state for the reproducibility\n",
    "    )\n",
    "\n",
    "print(f'best: {best}')"
   ]
  },
  {
   "cell_type": "code",
   "execution_count": null,
   "metadata": {},
   "outputs": [],
   "source": []
  },
  {
   "cell_type": "code",
   "execution_count": null,
   "metadata": {},
   "outputs": [],
   "source": []
  }
 ],
 "metadata": {
  "kernelspec": {
   "display_name": "ranking",
   "language": "python",
   "name": "python3"
  },
  "language_info": {
   "codemirror_mode": {
    "name": "ipython",
    "version": 3
   },
   "file_extension": ".py",
   "mimetype": "text/x-python",
   "name": "python",
   "nbconvert_exporter": "python",
   "pygments_lexer": "ipython3",
   "version": "3.9.18"
  }
 },
 "nbformat": 4,
 "nbformat_minor": 2
}
